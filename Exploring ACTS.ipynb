{
 "cells": [
  {
   "cell_type": "markdown",
   "id": "670f2dea",
   "metadata": {},
   "source": [
    "# Exploring ACTS \n",
    "## Lara Calic, Hannah Herde \n",
    "### Tuesday 13 December 2022 \n",
    "\n",
    "### Objective \n",
    "We are trying to understand the code blocks in `full_detector_odd.py`\n",
    "\n",
    "--- \n",
    "\n",
    "### Set up our `imports`"
   ]
  },
  {
   "cell_type": "code",
   "execution_count": 1,
   "id": "cf8beb90",
   "metadata": {},
   "outputs": [],
   "source": [
    "import pathlib, acts, acts.examples"
   ]
  },
  {
   "cell_type": "code",
   "execution_count": 2,
   "id": "d28be8c7",
   "metadata": {},
   "outputs": [],
   "source": [
    "from acts.examples.simulation import (\n",
    "    addParticleGun,\n",
    "    MomentumConfig,\n",
    "    EtaConfig,\n",
    "    ParticleConfig,\n",
    "    addPythia8,\n",
    "    addFatras,\n",
    "    ParticleSelectorConfig,\n",
    "    addDigitization,\n",
    ")"
   ]
  },
  {
   "cell_type": "code",
   "execution_count": 3,
   "id": "85ce57e5",
   "metadata": {},
   "outputs": [],
   "source": [
    "from acts.examples.reconstruction import (\n",
    "    addSeeding,\n",
    "    TruthSeedRanges,\n",
    "    addCKFTracks,\n",
    "    CKFPerformanceConfig,\n",
    "    TrackSelectorRanges,\n",
    "    addAmbiguityResolution,\n",
    "    AmbiguityResolutionConfig,\n",
    "    addVertexFitting,\n",
    "    VertexFinder,\n",
    ")"
   ]
  },
  {
   "cell_type": "code",
   "execution_count": 4,
   "id": "ed97727a",
   "metadata": {},
   "outputs": [],
   "source": [
    "# Manipute system with sys, add modules to path \n",
    "import sys \n",
    "sys.path.append( '/my-acts/source/Examples/Scripts/Python/' )\n",
    "\n",
    "from common import getOpenDataDetectorDirectory"
   ]
  },
  {
   "cell_type": "markdown",
   "id": "b639a488",
   "metadata": {},
   "source": [
    "Ah, wait, we see that this function from `common.py` makes a path relative to our run directory. Yikes :( We hardcoded the path in `common.py` \n",
    "\n",
    "Let's test it"
   ]
  },
  {
   "cell_type": "code",
   "execution_count": 5,
   "id": "39c2cd00",
   "metadata": {},
   "outputs": [
    {
     "data": {
      "text/plain": [
       "PosixPath('/my-acts/source/thirdparty/OpenDataDetector')"
      ]
     },
     "execution_count": 5,
     "metadata": {},
     "output_type": "execute_result"
    }
   ],
   "source": [
    "getOpenDataDetectorDirectory()"
   ]
  },
  {
   "cell_type": "code",
   "execution_count": 6,
   "id": "3a0c0c8c",
   "metadata": {},
   "outputs": [],
   "source": [
    "from acts.examples.odd import getOpenDataDetector"
   ]
  },
  {
   "cell_type": "markdown",
   "id": "ad7c7902",
   "metadata": {},
   "source": [
    "## Keep in mind: \n",
    "OK, let's posit that we run our script in a different directory than `Examples/Scripts/Python/`. The examples seem to reference everything based on the python examples directory :(. **We would need to replace all these paths, or RUN from that examples directory.** We fixed this by hard-coding the corrected path in `common`; there may be others! \n",
    "\n",
    "We need to take a decision: Are we going to update these paths?"
   ]
  },
  {
   "cell_type": "markdown",
   "id": "15c9289d",
   "metadata": {},
   "source": [
    "### Moving past the imports... \n",
    "Setting up the constants from Acts::UnitConstants from the C++ core libraries "
   ]
  },
  {
   "cell_type": "code",
   "execution_count": 7,
   "id": "c6b5345b",
   "metadata": {},
   "outputs": [],
   "source": [
    "u = acts.UnitConstants"
   ]
  },
  {
   "cell_type": "markdown",
   "id": "254013d4",
   "metadata": {},
   "source": [
    "1. Establish path for the geometry of the Open Data Detector (ODD) \n",
    "2. Give an output directory "
   ]
  },
  {
   "cell_type": "code",
   "execution_count": 8,
   "id": "89d2d518",
   "metadata": {},
   "outputs": [
    {
     "name": "stdout",
     "output_type": "stream",
     "text": [
      "/my-acts/source/thirdparty/OpenDataDetector /Users/hherde/cernbox/Research/ATLAS/CombinedPerformance/Tracking/my-acts/run/odd_output\n"
     ]
    }
   ],
   "source": [
    "geoDir = getOpenDataDetectorDirectory()\n",
    "outputDir = pathlib.Path.cwd() / \"odd_output\"\n",
    "print( geoDir, outputDir )"
   ]
  },
  {
   "cell_type": "markdown",
   "id": "bc0b44fc",
   "metadata": {},
   "source": [
    "Show the python binding calls "
   ]
  },
  {
   "cell_type": "code",
   "execution_count": 9,
   "id": "ab7822a8",
   "metadata": {},
   "outputs": [
    {
     "name": "stdout",
     "output_type": "stream",
     "text": [
      "dump_args for module functions: acts:53, acts.examples:252, acts.examples.simulation:6, acts.ActsPythonBindings:34, acts.ActsPythonBindings.logging:21, acts.ActsPythonBindings._examples:111, acts.ActsPythonBindings._propagator:6\n"
     ]
    },
    {
     "data": {
      "text/plain": [
       "483"
      ]
     },
     "execution_count": 9,
     "metadata": {},
     "output_type": "execute_result"
    }
   ],
   "source": [
    "acts.examples.dump_args_calls(locals()) "
   ]
  },
  {
   "cell_type": "markdown",
   "id": "85c55ae3",
   "metadata": {},
   "source": [
    "From the geometry directory, specify the material map, digital configuration, track seeding "
   ]
  },
  {
   "cell_type": "code",
   "execution_count": 10,
   "id": "2165fd12",
   "metadata": {},
   "outputs": [],
   "source": [
    "oddMaterialMap = geoDir / \"data/odd-material-maps.root\"\n",
    "oddDigiConfig = geoDir / \"config/odd-digi-smearing-config.json\"\n",
    "oddSeedingSel = geoDir / \"config/odd-seeding-config.json\""
   ]
  },
  {
   "cell_type": "code",
   "execution_count": 11,
   "id": "9ee2d06c",
   "metadata": {},
   "outputs": [
    {
     "name": "stdout",
     "output_type": "stream",
     "text": [
      "[\n",
      "    {\n",
      "        \"layer\": 2,\n",
      "        \"volume\": 17\n",
      "    },\n",
      "    {\n",
      "        \"layer\": 4,\n",
      "        \"volume\": 17\n",
      "    },\n",
      "    {\n",
      "        \"layer\": 6,\n",
      "        \"volume\": 17\n",
      "    },\n",
      "    {\n",
      "        \"layer\": 8,\n",
      "        \"volume\": 17\n",
      "    },\n",
      "    {\n",
      "        \"layer\": 2,\n",
      "        \"volume\": 18\n",
      "    },\n",
      "    {\n",
      "        \"layer\": 4,\n",
      "        \"volume\": 18\n",
      "    },\n",
      "    {\n",
      "        \"layer\": 6,\n",
      "        \"volume\": 18\n",
      "    },\n",
      "    {\n",
      "        \"layer\": 8,\n",
      "        \"volume\": 18\n",
      "    },\n",
      "    {\n",
      "        \"layer\": 16,\n",
      "        \"volume\": 16\n",
      "    },\n",
      "    {\n",
      "        \"layer\": 14,\n",
      "        \"volume\": 16\n",
      "    },\n",
      "    {\n",
      "        \"layer\": 12,\n",
      "        \"volume\": 16\n",
      "    },\n",
      "    {\n",
      "        \"layer\": 10,\n",
      "        \"volume\": 16\n",
      "    }\n",
      "]\n",
      "\n"
     ]
    }
   ],
   "source": [
    "# Test that I can open the json files \n",
    "with open( oddSeedingSel, 'r') as f:\n",
    "    print(f.read())"
   ]
  },
  {
   "cell_type": "markdown",
   "id": "b835668e",
   "metadata": {},
   "source": [
    "Open the material ROOT file with ACTS "
   ]
  },
  {
   "cell_type": "code",
   "execution_count": 12,
   "id": "c844b0b3",
   "metadata": {},
   "outputs": [
    {
     "name": "stdout",
     "output_type": "stream",
     "text": [
      "acts.ActsPythonBindings._examples.RootMaterialDecorator ( fileName = '/my-acts/source/thirdparty/OpenDataDetector/data/odd-material-maps.root', level = <Level.INFO: 2> )\n"
     ]
    }
   ],
   "source": [
    "oddMaterialDeco = acts.IMaterialDecorator.fromFile(oddMaterialMap)"
   ]
  },
  {
   "cell_type": "markdown",
   "id": "ab198f6b",
   "metadata": {},
   "source": [
    "### Excellent! Further than ever before!! \n",
    "We have the material map in the correct directory now and apparently can reference it properly. That's great! \n",
    "\n",
    "Now, we want to fetch the Open Data Detector (ODD) with ACTS as an object with the supplied material smearing and seeding maps. "
   ]
  },
  {
   "cell_type": "code",
   "execution_count": 14,
   "id": "52eef8e6",
   "metadata": {},
   "outputs": [
    {
     "ename": "ModuleNotFoundError",
     "evalue": "No module named 'acts.examples.dd4hep'",
     "output_type": "error",
     "traceback": [
      "\u001b[0;31m---------------------------------------------------------------------------\u001b[0m",
      "\u001b[0;31mModuleNotFoundError\u001b[0m                       Traceback (most recent call last)",
      "Cell \u001b[0;32mIn[14], line 1\u001b[0m\n\u001b[0;32m----> 1\u001b[0m \u001b[38;5;28;01mimport\u001b[39;00m \u001b[38;5;21;01macts\u001b[39;00m\u001b[38;5;21;01m.\u001b[39;00m\u001b[38;5;21;01mexamples\u001b[39;00m\u001b[38;5;21;01m.\u001b[39;00m\u001b[38;5;21;01mdd4hep\u001b[39;00m\n\u001b[1;32m      2\u001b[0m detector, trackingGeometry, decorators \u001b[38;5;241m=\u001b[39m getOpenDataDetector(\n\u001b[1;32m      3\u001b[0m     geoDir, mdecorator\u001b[38;5;241m=\u001b[39moddMaterialDeco\n\u001b[1;32m      4\u001b[0m )\n",
      "\u001b[0;31mModuleNotFoundError\u001b[0m: No module named 'acts.examples.dd4hep'"
     ]
    }
   ],
   "source": [
    "import acts.examples.dd4hep\n",
    "detector, trackingGeometry, decorators = getOpenDataDetector(\n",
    "    geoDir, mdecorator=oddMaterialDeco\n",
    ")"
   ]
  },
  {
   "cell_type": "code",
   "execution_count": null,
   "id": "f53915ff",
   "metadata": {},
   "outputs": [],
   "source": []
  }
 ],
 "metadata": {
  "kernelspec": {
   "display_name": "Python 3 (ipykernel)",
   "language": "python",
   "name": "python3"
  },
  "language_info": {
   "codemirror_mode": {
    "name": "ipython",
    "version": 3
   },
   "file_extension": ".py",
   "mimetype": "text/x-python",
   "name": "python",
   "nbconvert_exporter": "python",
   "pygments_lexer": "ipython3",
   "version": "3.8.5"
  }
 },
 "nbformat": 4,
 "nbformat_minor": 5
}
